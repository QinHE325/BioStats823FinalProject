{
 "cells": [
  {
   "cell_type": "code",
   "execution_count": 1,
   "id": "0347eda8",
   "metadata": {},
   "outputs": [],
   "source": [
    "import pandas as pd\n",
    "import numpy as np\n",
    "import matplotlib.pyplot as plt\n",
    "import matplotlib.image as mpimg\n",
    "import seaborn as sns\n",
    "\n",
    "%matplotlib inline\n",
    "\n",
    "np.random.seed(2)\n",
    "\n",
    "from sklearn.model_selection import train_test_split\n",
    "from sklearn.metrics import confusion_matrix\n",
    "import itertools\n",
    "\n",
    "\n",
    "\n",
    "\n",
    "sns.set(style='white', context='notebook', palette='deep')"
   ]
  },
  {
   "cell_type": "markdown",
   "id": "2eae52e1",
   "metadata": {},
   "source": [
    "# SVM"
   ]
  },
  {
   "cell_type": "code",
   "execution_count": 2,
   "id": "b4ac61ec",
   "metadata": {},
   "outputs": [],
   "source": [
    "from sklearn.preprocessing import scale\n",
    "from sklearn import svm\n",
    "from sklearn import metrics"
   ]
  },
  {
   "cell_type": "code",
   "execution_count": 3,
   "id": "7d45f447",
   "metadata": {},
   "outputs": [
    {
     "name": "stdout",
     "output_type": "stream",
     "text": [
      "(42000, 785) (28000, 784)\n"
     ]
    }
   ],
   "source": [
    "# Load the data\n",
    "train = pd.read_csv(\"train.csv\")\n",
    "test = pd.read_csv(\"test.csv\")\n",
    "Y_train = train[\"label\"]\n",
    "X_train = train.drop(columns = \"label\")\n",
    "print(train.shape, test.shape)"
   ]
  },
  {
   "cell_type": "code",
   "execution_count": 4,
   "id": "86a2678a",
   "metadata": {},
   "outputs": [],
   "source": [
    "# Normalize the data\n",
    "X_train = X_train / 255 # y不用normalize吗\n",
    "test = test / 255\n",
    "\n",
    "# Scale features\n",
    "X_scaled = scale(X_train)\n",
    "\n",
    "# Split train and test\n",
    "random_seed = 2\n",
    "X_train, X_val, Y_train, Y_val = train_test_split(X_scaled, Y_train, test_size = 0.1, random_state=random_seed)"
   ]
  },
  {
   "cell_type": "code",
   "execution_count": 5,
   "id": "9ea7d381",
   "metadata": {},
   "outputs": [],
   "source": [
    "# SVM with rbg kernel, c=1, default value of gamma\n",
    "\n",
    "# model\n",
    "svm_model = svm.SVC(kernel='rbf')\n",
    "\n",
    "# fit\n",
    "svm_model.fit(X_train, Y_train)\n",
    "\n",
    "# predict\n",
    "Y_pred = svm_model.predict(X_val)"
   ]
  },
  {
   "cell_type": "code",
   "execution_count": 6,
   "id": "bfe2d45c",
   "metadata": {
    "scrolled": true
   },
   "outputs": [
    {
     "name": "stdout",
     "output_type": "stream",
     "text": [
      "accuracy: 0.9614285714285714 \n",
      "\n",
      "[[408   0   0   0   1   0   1   1   0   0]\n",
      " [  0 478   2   3   0   0   0   0   2   0]\n",
      " [  2   1 391   4   1   0   0   2   1   1]\n",
      " [  0   1   5 397   0   6   1   1   6   1]\n",
      " [  0   0   1   0 445   0   5   2   1   7]\n",
      " [  1   0   2   5   0 357   2   0   4   1]\n",
      " [  6   1   6   0   1   6 392   0   1   0]\n",
      " [  1   2   7   2   1   0   0 426   0   7]\n",
      " [  0   3   3   5   1   5   2   0 360   3]\n",
      " [  2   2   1   3   7   1   0   9   0 384]]\n"
     ]
    }
   ],
   "source": [
    "# confusion matrix and accuracy\n",
    "\n",
    "# accuracy\n",
    "print(\"accuracy:\", metrics.accuracy_score(y_true=Y_val, y_pred=Y_pred), \"\\n\")\n",
    "\n",
    "# confusion matrix\n",
    "print(metrics.confusion_matrix(y_true=Y_val, y_pred=Y_pred))"
   ]
  },
  {
   "cell_type": "code",
   "execution_count": 7,
   "id": "7112e64b",
   "metadata": {},
   "outputs": [
    {
     "name": "stdout",
     "output_type": "stream",
     "text": [
      "(42000, 785) (3000, 785) (28000, 784)\n"
     ]
    }
   ],
   "source": [
    "# Train the model again on a random sample with size = 3000\n",
    "\n",
    "# Randomly select 3000 samples\n",
    "train_sampled = train.sample(n = 3000, replace = False, random_state = random_seed)\n",
    "\n",
    "# output the selected sample\n",
    "train_sampled.to_csv(\"train_sampled.csv\", index=False)\n",
    "\n",
    "print(train.shape, train_sampled.shape, test.shape)"
   ]
  },
  {
   "cell_type": "code",
   "execution_count": 8,
   "id": "be9c6508",
   "metadata": {},
   "outputs": [
    {
     "name": "stdout",
     "output_type": "stream",
     "text": [
      "(3000, 785) (3000, 784) (3000,)\n"
     ]
    }
   ],
   "source": [
    "# Load the sampled data\n",
    "train = pd.read_csv(\"train_sampled.csv\")\n",
    "test = pd.read_csv(\"test.csv\")\n",
    "Y_train = train[\"label\"].to_numpy()\n",
    "X_train = train.drop(columns = \"label\")\n",
    "print(train.shape, X_train.shape, Y_train.shape)"
   ]
  },
  {
   "cell_type": "code",
   "execution_count": 9,
   "id": "26f5d596",
   "metadata": {},
   "outputs": [],
   "source": [
    "# Normalize the data\n",
    "X_train = X_train / 255\n",
    "test = test / 255\n",
    "\n",
    "# Scale features\n",
    "X_scaled = scale(X_train)\n",
    "\n",
    "# Split train and test\n",
    "random_seed = 2\n",
    "X_train, X_val, Y_train, Y_val = train_test_split(X_scaled, Y_train, test_size = 0.1, random_state=random_seed)"
   ]
  },
  {
   "cell_type": "code",
   "execution_count": 10,
   "id": "e0084116",
   "metadata": {},
   "outputs": [],
   "source": [
    "# SVM with rbg kernel, c=1, default value of gamma\n",
    "\n",
    "# model\n",
    "svm_model = svm.SVC(kernel='rbf')\n",
    "\n",
    "# fit\n",
    "svm_model.fit(X_train, Y_train)\n",
    "\n",
    "# predict\n",
    "Y_pred = svm_model.predict(X_val)"
   ]
  },
  {
   "cell_type": "code",
   "execution_count": 11,
   "id": "4f53502c",
   "metadata": {
    "scrolled": true
   },
   "outputs": [
    {
     "name": "stdout",
     "output_type": "stream",
     "text": [
      "accuracy: 0.91 \n",
      "\n",
      "[[28  0  0  0  0  1  1  0  1  0]\n",
      " [ 0 37  0  0  0  0  0  0  0  0]\n",
      " [ 0  0 26  0  0  0  0  0  0  0]\n",
      " [ 0  1  1 21  0  0  0  1  0  0]\n",
      " [ 0  0  1  0 31  1  0  1  0  0]\n",
      " [ 0  0  1  0  1 25  1  0  0  0]\n",
      " [ 2  1  1  0  0  0 23  0  0  0]\n",
      " [ 1  0  2  0  1  0  0 31  0  4]\n",
      " [ 0  0  0  0  0  1  0  0 28  0]\n",
      " [ 0  1  0  1  0  0  0  0  0 23]]\n"
     ]
    }
   ],
   "source": [
    "# confusion matrix and accuracy\n",
    "\n",
    "# accuracy\n",
    "print(\"accuracy:\", metrics.accuracy_score(y_true=Y_val, y_pred=Y_pred), \"\\n\")\n",
    "\n",
    "# confusion matrix\n",
    "print(metrics.confusion_matrix(y_true=Y_val, y_pred=Y_pred))"
   ]
  },
  {
   "cell_type": "code",
   "execution_count": null,
   "id": "b52d2091",
   "metadata": {},
   "outputs": [],
   "source": []
  },
  {
   "cell_type": "code",
   "execution_count": null,
   "id": "488e4051",
   "metadata": {},
   "outputs": [],
   "source": []
  }
 ],
 "metadata": {
  "kernelspec": {
   "display_name": "Python 3 (ipykernel)",
   "language": "python",
   "name": "python3"
  },
  "language_info": {
   "codemirror_mode": {
    "name": "ipython",
    "version": 3
   },
   "file_extension": ".py",
   "mimetype": "text/x-python",
   "name": "python",
   "nbconvert_exporter": "python",
   "pygments_lexer": "ipython3",
   "version": "3.9.13"
  }
 },
 "nbformat": 4,
 "nbformat_minor": 5
}
